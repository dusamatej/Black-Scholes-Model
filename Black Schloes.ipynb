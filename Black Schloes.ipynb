{
 "cells": [
  {
   "cell_type": "markdown",
   "id": "be58b215",
   "metadata": {},
   "source": [
    "Get Historical Volatility for your Stock"
   ]
  },
  {
   "cell_type": "code",
   "execution_count": 2,
   "id": "c9829940",
   "metadata": {},
   "outputs": [
    {
     "name": "stdout",
     "output_type": "stream",
     "text": [
      "\n",
      "Estimated Historical Volatility for AAPL: 0.66 (65.82%)\n"
     ]
    }
   ],
   "source": [
    "import yfinance as yf\n",
    "import numpy as np\n",
    "\n",
    "def get_historical_volatility():\n",
    "    symbol = input(\"Enter stock symbol to estimate volatility: \").upper()\n",
    "    days = int(input(\"Enter number of past days to calculate volatility: \"))\n",
    "\n",
    "    stock = yf.Ticker(symbol)\n",
    "    data = stock.history(period=f\"{days}d\")\n",
    "\n",
    "    if data.empty:\n",
    "        print(\"No data found for this symbol. Please check the symbol and try again.\")\n",
    "        return None\n",
    "\n",
    "    # Calculate daily log returns\n",
    "    returns = np.log(data['Close'] / data['Close'].shift(1)).dropna()\n",
    "\n",
    "    # Daily volatility\n",
    "    daily_volatility = np.std(returns)\n",
    "\n",
    "    # Annualize volatility for 252 trading days\n",
    "    annual_volatility = daily_volatility * np.sqrt(252)\n",
    "\n",
    "    print(f\"\\nEstimated Historical Volatility for {symbol}: {annual_volatility:.2f} ({annual_volatility*100:.2f}%)\")\n",
    "    return annual_volatility\n",
    "\n",
    "# Example usage\n",
    "sigma = get_historical_volatility()\n"
   ]
  },
  {
   "cell_type": "markdown",
   "id": "6c45bee2",
   "metadata": {},
   "source": [
    "Calculate the risk-free rate using the US Treasury bond yield "
   ]
  },
  {
   "cell_type": "code",
   "execution_count": 5,
   "id": "55772f34",
   "metadata": {},
   "outputs": [
    {
     "name": "stdout",
     "output_type": "stream",
     "text": [
      "\n",
      "Current Risk-Free Rate based on your expiration (0.25 years): 0.0419 (4.19%)\n"
     ]
    }
   ],
   "source": [
    "def get_risk_free_rate():\n",
    "    \"\"\"\n",
    "    Asks the user for time to expiration (in years) and fetches an appropriate US Treasury yield.\n",
    "    \"\"\"\n",
    "    try:\n",
    "        # Ask the user how long until option expiration\n",
    "        time_to_expiration_years = float(input(\"Enter the expected time to expiration (in years, e.g., 0.25 for 3 months): \"))\n",
    "\n",
    "        # Pick the right treasury bond based on expiration\n",
    "        if time_to_expiration_years <= 0.5:\n",
    "            ticker = \"^IRX\"  # 3-month T-Bill\n",
    "        elif time_to_expiration_years <= 1:\n",
    "            ticker = \"^FVX\"  # 5-year Note used as proxy (Yahoo doesn't have perfect 1-year ticker)\n",
    "        elif time_to_expiration_years <= 2:\n",
    "            ticker = \"^UST2Y\"  # 2-year Note\n",
    "        elif time_to_expiration_years <= 5:\n",
    "            ticker = \"^FVX\"  # 5-year Note\n",
    "        elif time_to_expiration_years <= 10:\n",
    "            ticker = \"^TNX\"  # 10-year Note\n",
    "        else:\n",
    "            ticker = \"^TYX\"  # 30-year Bond\n",
    "\n",
    "        # Fetch the data\n",
    "        bond = yf.Ticker(ticker)\n",
    "        data = bond.history(period=\"1d\")\n",
    "        \n",
    "        latest_rate = data['Close'].iloc[-1] / 100  # Convert percentage to decimal\n",
    "\n",
    "        print(f\"\\nCurrent Risk-Free Rate based on your expiration ({time_to_expiration_years} years): {latest_rate:.4f} ({latest_rate*100:.2f}%)\")\n",
    "        return latest_rate, time_to_expiration_years\n",
    "\n",
    "    except Exception as e:\n",
    "        print(\"Failed to fetch risk-free rate. Please enter manually.\")\n",
    "        # Fallback manual input\n",
    "        manual_rate = float(input(\"Enter risk-free rate manually (decimal, e.g., 0.045 for 4.5%): \"))\n",
    "        manual_time = float(input(\"Enter time to expiration manually (in years): \"))\n",
    "        return manual_rate, manual_time\n",
    "\n",
    "r, T = get_risk_free_rate()\n"
   ]
  },
  {
   "cell_type": "markdown",
   "id": "4dfb9971",
   "metadata": {},
   "source": [
    "Use Historical Volatility and US Treasury Yield (as risk-free rate) to calculate the theoretical price of the option using the Black-Scholes model."
   ]
  },
  {
   "cell_type": "code",
   "execution_count": 3,
   "id": "e95f38e5",
   "metadata": {},
   "outputs": [
    {
     "name": "stdout",
     "output_type": "stream",
     "text": [
      "Real-Time Option Pricing\n"
     ]
    },
    {
     "name": "stderr",
     "output_type": "stream",
     "text": [
      "C:\\Users\\matej\\AppData\\Local\\Temp\\ipykernel_26180\\1145197250.py:10: FutureWarning: Series.__getitem__ treating keys as positions is deprecated. In a future version, integer keys will always be treated as labels (consistent with DataFrame behavior). To access a value by position, use `ser.iloc[pos]`\n",
      "  return data['Close'][0]\n"
     ]
    },
    {
     "name": "stdout",
     "output_type": "stream",
     "text": [
      "Current Stock Price of AAPL: $209.28\n",
      "Strike price: $215.00\n",
      "Time to expiration: 0.25 years\n",
      "Risk-free rate: 4.50%\n",
      "Volatility: 66.00%\n",
      "\n",
      "Theoretical Call Option Price: $26.02\n",
      "Theoretical Put Option Price: $29.33\n"
     ]
    }
   ],
   "source": [
    "import requests\n",
    "import math\n",
    "from scipy.stats import norm\n",
    "\n",
    "#stock price from Yahoo Finance\n",
    "def get_stock_price(symbol):\n",
    "    import yfinance as yf\n",
    "    stock = yf.Ticker(symbol)\n",
    "    data = stock.history(period=\"1d\")\n",
    "    return data['Close'][0]\n",
    "\n",
    "# Black-Scholes Model\n",
    "def black_scholes_call_put(S, K, T, r, sigma):\n",
    "    d1 = (math.log(S / K) + (r + 0.5 * sigma ** 2) * T) / (sigma * math.sqrt(T))\n",
    "    d2 = d1 - sigma * math.sqrt(T)\n",
    "\n",
    "    call_price = S * norm.cdf(d1) - K * math.exp(-r * T) * norm.cdf(d2)\n",
    "    put_price = K * math.exp(-r * T) * norm.cdf(-d2) - S * norm.cdf(-d1)\n",
    "\n",
    "    return call_price, put_price\n",
    "\n",
    "# Plot Call Option Payoff\n",
    "def plot_call_option_payoff(strike_price, option_price, stock_price_min, stock_price_max):\n",
    "    stock_prices = np.linspace(stock_price_min, stock_price_max, 100)\n",
    "    payoff = np.maximum(stock_prices - strike_price, 0) - option_price\n",
    "    break_even = strike_price + option_price\n",
    "\n",
    "\n",
    "# Main app\n",
    "def main():\n",
    "    print(\"Real-Time Option Pricing\")\n",
    "    symbol = input(\"Enter stock symbol (e.g., AAPL): \").upper()\n",
    "    S = get_stock_price(symbol)\n",
    "    print(f\"Current Stock Price of {symbol}: ${S:.2f}\")\n",
    "\n",
    "    K = float(input(\"Enter strike price: \"))\n",
    "    T = float(input(\"Enter time to expiration (in years, e.g., 0.5 for 6 months): \"))\n",
    "    r = float(input(\"Enter risk-free rate (as decimal, e.g., 0.02 for 2%): \"))\n",
    "    sigma = float(input(\"Enter volatility (as decimal, e.g., 0.3 for 30%): \"))\n",
    "\n",
    "    call, put = black_scholes_call_put(S, K, T, r, sigma)\n",
    "\n",
    "    print(f\"Strike price: ${K:.2f}\")\n",
    "    print(f\"Time to expiration: {T} years\")\n",
    "    print(f\"Risk-free rate: {r * 100:.2f}%\")\n",
    "    print(f\"Volatility: {sigma * 100:.2f}%\")\n",
    "    print(f\"\\nTheoretical Call Option Price: ${call:.2f}\")\n",
    "    print(f\"Theoretical Put Option Price: ${put:.2f}\")\n",
    "\n",
    "    \n",
    "if __name__ == \"__main__\":\n",
    "    main()\n"
   ]
  }
 ],
 "metadata": {
  "kernelspec": {
   "display_name": "base",
   "language": "python",
   "name": "python3"
  },
  "language_info": {
   "codemirror_mode": {
    "name": "ipython",
    "version": 3
   },
   "file_extension": ".py",
   "mimetype": "text/x-python",
   "name": "python",
   "nbconvert_exporter": "python",
   "pygments_lexer": "ipython3",
   "version": "3.12.7"
  }
 },
 "nbformat": 4,
 "nbformat_minor": 5
}
